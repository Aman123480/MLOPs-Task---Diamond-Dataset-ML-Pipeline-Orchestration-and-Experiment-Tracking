{
 "cells": [
  {
   "cell_type": "code",
   "execution_count": null,
   "id": "51e772da",
   "metadata": {},
   "outputs": [],
   "source": [
    "import pandas as pd\n",
    "import numpy as np\n",
    "import matplotlib.pyplot as plt\n",
    "import seaborn as sns\n",
    "from sklearn.model_selection import train_test_split\n",
    "from sklearn.preprocessing import StandardScaler\n",
    "import warnings\n",
    "warnings.filterwarnings('ignore')\n",
    "from scipy.stats import mode\n"
   ]
  },
  {
   "cell_type": "code",
   "execution_count": null,
   "id": "33af8064",
   "metadata": {},
   "outputs": [],
   "source": [
    "df=pd.read_csv(\"diamonds.csv\")"
   ]
  },
  {
   "cell_type": "code",
   "execution_count": null,
   "id": "14c43584",
   "metadata": {},
   "outputs": [],
   "source": [
    "df.head()"
   ]
  },
  {
   "cell_type": "code",
   "execution_count": null,
   "id": "a7132f42",
   "metadata": {},
   "outputs": [],
   "source": [
    "df.tail()"
   ]
  },
  {
   "cell_type": "code",
   "execution_count": null,
   "id": "9a2c6b1f",
   "metadata": {},
   "outputs": [],
   "source": [
    "df.shape"
   ]
  },
  {
   "cell_type": "code",
   "execution_count": null,
   "id": "1f1acfb8",
   "metadata": {},
   "outputs": [],
   "source": [
    "df.info()"
   ]
  },
  {
   "cell_type": "code",
   "execution_count": null,
   "id": "954fad36",
   "metadata": {},
   "outputs": [],
   "source": [
    "df.isna().sum()"
   ]
  },
  {
   "cell_type": "code",
   "execution_count": null,
   "id": "cb2f5d01",
   "metadata": {},
   "outputs": [],
   "source": [
    "df.describe()"
   ]
  },
  {
   "cell_type": "code",
   "execution_count": null,
   "id": "e4fcd45e",
   "metadata": {},
   "outputs": [],
   "source": [
    "# make a split of numerical and categorical columns\n",
    "numerical = ['carat', 'depth', 'table', 'price', 'x', 'y', 'z']\n",
    "categorical = df.loc[:, ~df.columns.isin(numerical)].columns"
   ]
  },
  {
   "cell_type": "code",
   "execution_count": null,
   "id": "39f8af6c",
   "metadata": {},
   "outputs": [],
   "source": [
    "numerical"
   ]
  },
  {
   "cell_type": "code",
   "execution_count": null,
   "id": "978168c1",
   "metadata": {},
   "outputs": [],
   "source": [
    "categorical"
   ]
  },
  {
   "cell_type": "code",
   "execution_count": null,
   "id": "0f95a990",
   "metadata": {},
   "outputs": [],
   "source": [
    "# plot the distplot for numerical columns\n",
    "plt.figure(figsize = (30, 25))\n",
    "\n",
    "for i, col in enumerate(numerical):\n",
    "    plt.subplot(3, 3, i+1)\n",
    "    sns.distplot(df[col], hist = False)"
   ]
  },
  {
   "cell_type": "code",
   "execution_count": null,
   "id": "e45ff9df",
   "metadata": {},
   "outputs": [],
   "source": [
    "sns.pairplot(df)"
   ]
  },
  {
   "cell_type": "code",
   "execution_count": null,
   "id": "0e340f56",
   "metadata": {},
   "outputs": [],
   "source": [
    "# plot the boxplot\n",
    "plt.figure(figsize = (20, 15))\n",
    "\n",
    "for i , col in enumerate(numerical):\n",
    "    plt.subplot(3, 3, i+1)\n",
    "    sns.boxplot(df[col])"
   ]
  },
  {
   "cell_type": "code",
   "execution_count": null,
   "id": "9f34d88c",
   "metadata": {},
   "outputs": [],
   "source": [
    "#scatter plot for all numeric columns\n",
    "plt.figure(figsize = (20, 15))\n",
    "\n",
    "for i , col in enumerate(numerical):\n",
    "    plt.subplot(3, 3, i+1)\n",
    "    sns.scatterplot(y = df['price'], x = df[col])"
   ]
  },
  {
   "cell_type": "code",
   "execution_count": null,
   "id": "bfc27bb7",
   "metadata": {},
   "outputs": [],
   "source": [
    "#count plot for all numeric columns\n",
    "plt.figure(figsize = (20, 5))\n",
    "\n",
    "for i , col in enumerate(categorical):\n",
    "    plt.subplot(1, 3, i+1)\n",
    "    sns.countplot(df[col])"
   ]
  },
  {
   "cell_type": "code",
   "execution_count": null,
   "id": "880d8d6a",
   "metadata": {},
   "outputs": [],
   "source": [
    "plt.figure(figsize=(10,7))\n",
    "sns.heatmap(df.corr(), data = df, annot = True, cmap = 'RdBu_r')"
   ]
  },
  {
   "cell_type": "code",
   "execution_count": null,
   "id": "3e957eea",
   "metadata": {},
   "outputs": [],
   "source": [
    "X = df.drop('price', axis = 1)\n",
    "y = df['price']"
   ]
  },
  {
   "cell_type": "code",
   "execution_count": null,
   "id": "d47bd220",
   "metadata": {},
   "outputs": [],
   "source": [
    "X,y"
   ]
  },
  {
   "cell_type": "code",
   "execution_count": null,
   "id": "ce1fb66e",
   "metadata": {},
   "outputs": [],
   "source": [
    "#split this data\n",
    "from sklearn.model_selection import train_test_split\n",
    "X_train, X_test, y_train, y_test = train_test_split(X, y, test_size = 0.25, random_state = 4)\n",
    "print('Train Set: ', X_train.shape, y_train.shape)\n",
    "print('Test Set: ', X_test.shape, y_test.shape)"
   ]
  },
  {
   "cell_type": "code",
   "execution_count": null,
   "id": "7b9dedf0",
   "metadata": {},
   "outputs": [],
   "source": [
    "X_train.head()"
   ]
  },
  {
   "cell_type": "code",
   "execution_count": null,
   "id": "31020961",
   "metadata": {},
   "outputs": [],
   "source": [
    "X_test.head()"
   ]
  },
  {
   "cell_type": "markdown",
   "id": "689f5b38",
   "metadata": {},
   "source": [
    "## Lable Encoding"
   ]
  },
  {
   "cell_type": "code",
   "execution_count": null,
   "id": "ae9803a6",
   "metadata": {},
   "outputs": [],
   "source": [
    "from sklearn.preprocessing import LabelEncoder"
   ]
  },
  {
   "cell_type": "code",
   "execution_count": null,
   "id": "aa3b6a77",
   "metadata": {},
   "outputs": [],
   "source": [
    "le = LabelEncoder()\n",
    "X_train['cut']=le.fit_transform(X_train['cut'])\n",
    "X_train['color']=le.fit_transform(X_train['color'])\n",
    "X_train['clarity']=le.fit_transform(X_train['clarity'])"
   ]
  },
  {
   "cell_type": "code",
   "execution_count": null,
   "id": "1e7cfd34",
   "metadata": {},
   "outputs": [],
   "source": [
    "# label encoding the test set categorical columns\n",
    "le= LabelEncoder()\n",
    "X_test['cut']=le.fit_transform(X_test['cut'])\n",
    "X_test['color']=le.fit_transform(X_test['color'])\n",
    "X_test['clarity']=le.fit_transform(X_test['clarity'])"
   ]
  },
  {
   "cell_type": "code",
   "execution_count": null,
   "id": "dcdd0152",
   "metadata": {},
   "outputs": [],
   "source": [
    "X_train.head(2)"
   ]
  },
  {
   "cell_type": "code",
   "execution_count": null,
   "id": "36a3c5ed",
   "metadata": {},
   "outputs": [],
   "source": [
    "X_test.head(2)"
   ]
  },
  {
   "cell_type": "code",
   "execution_count": null,
   "id": "5419e24e",
   "metadata": {},
   "outputs": [],
   "source": [
    "from sklearn.preprocessing import StandardScaler\n",
    "scaler = StandardScaler()\n",
    "X_train_rescaled = pd.DataFrame(scaler.fit_transform(X_train),\n",
    "                                columns = X_train.columns,\n",
    "                                index = X_train.index)\n",
    "X_train_rescaled.head()"
   ]
  },
  {
   "cell_type": "code",
   "execution_count": null,
   "id": "2bca11c7",
   "metadata": {},
   "outputs": [],
   "source": [
    "X_test_rescaled = pd.DataFrame(scaler.transform(X_test),\n",
    "                               columns = X_test.columns,\n",
    "                               index = X_test.index)\n",
    "X_test_rescaled.head()"
   ]
  },
  {
   "cell_type": "markdown",
   "id": "8736a03a",
   "metadata": {},
   "source": [
    "### Expriment Tracking"
   ]
  },
  {
   "cell_type": "code",
   "execution_count": null,
   "id": "b3cb976c",
   "metadata": {},
   "outputs": [],
   "source": [
    "pip install mlflow"
   ]
  },
  {
   "cell_type": "code",
   "execution_count": null,
   "id": "076033de",
   "metadata": {},
   "outputs": [],
   "source": [
    "import mlflow"
   ]
  },
  {
   "cell_type": "code",
   "execution_count": null,
   "id": "1bd341f5",
   "metadata": {},
   "outputs": [],
   "source": [
    "mlflow.set_tracking_uri(\"sqlite:///mlflow.db\")\n",
    "\n",
    "mlflow.set_experiment(\"Diamond Price Prediction\")"
   ]
  },
  {
   "cell_type": "code",
   "execution_count": null,
   "id": "dacc5cca",
   "metadata": {},
   "outputs": [],
   "source": [
    "from pickle import dump\n",
    "dump(le, open('models/label_encoder.pkl', 'wb'))\n",
    "dump(scaler, open('models/standard_scaler.pkl', 'wb'))\n"
   ]
  },
  {
   "cell_type": "code",
   "execution_count": null,
   "id": "2b204a71",
   "metadata": {},
   "outputs": [],
   "source": [
    "from sklearn import metrics\n"
   ]
  },
  {
   "cell_type": "markdown",
   "id": "02daa6f3",
   "metadata": {},
   "source": [
    "### Experiment-1 Linear Regrission"
   ]
  },
  {
   "cell_type": "code",
   "execution_count": null,
   "id": "fb77d6cf",
   "metadata": {},
   "outputs": [],
   "source": [
    "from sklearn.linear_model import LinearRegression\n"
   ]
  },
  {
   "cell_type": "code",
   "execution_count": null,
   "id": "4ed6402f",
   "metadata": {},
   "outputs": [],
   "source": [
    "with mlflow.start_run():\n",
    "    mlflow.set_tag(\"dev\", \"Abdul Azad\")\n",
    "    mlflow.set_tag(\"algo\", \"Linear Regression\")\n",
    "    # log the data for each run using log_param, log_metric\n",
    "    mlflow.log_param(\"data-path\", \"diamonds.csv\")\n",
    "    linear_regressor = LinearRegression()\n",
    "    linear_regressor.fit(X_train_rescaled, y_train)\n",
    "    y_test_pred = linear_regressor.predict(X_test_rescaled)\n",
    "    acc = metrics.r2_score(y_test, y_test_pred)\n",
    "    rmse = np.sqrt(metrics.mean_squared_error(y_test, y_test_pred))\n",
    "    mlflow.log_metric(\"R2 Score\", acc)\n",
    "    mlflow.log_metric(\"RMSE\", rmse)\n",
    "    mlflow.sklearn.log_model(linear_regressor, artifact_path = \"models\")\n",
    "    mlflow.log_artifact(\"models/standard_scaler.pkl\")\n",
    "    mlflow.log_artifact(\"models/label_encoder.pkl\")"
   ]
  },
  {
   "cell_type": "markdown",
   "id": "253a1874",
   "metadata": {},
   "source": [
    "### Experiment-2 KNN"
   ]
  },
  {
   "cell_type": "code",
   "execution_count": null,
   "id": "78cfa02d",
   "metadata": {},
   "outputs": [],
   "source": [
    "from sklearn.neighbors import KNeighborsRegressor"
   ]
  },
  {
   "cell_type": "code",
   "execution_count": null,
   "id": "374f2e64",
   "metadata": {},
   "outputs": [],
   "source": [
    "with mlflow.start_run():\n",
    "    mlflow.set_tag(\"dev\", \"Abdul Azad\")\n",
    "    mlflow.set_tag(\"algo\", \"KNN\")\n",
    "    # log the data for each run using log_param, log_metric\n",
    "    mlflow.log_param(\"data-path\", \"diamonds.csv\")\n",
    "    k = 6\n",
    "    knn_regressor = KNeighborsRegressor(n_neighbors = k)\n",
    "    knn_regressor.fit(X_train_rescaled, y_train)\n",
    "    y_test_pred = knn_regressor.predict(X_test_rescaled)\n",
    "    acc = metrics.r2_score(y_test, y_test_pred)\n",
    "    rmse = np.sqrt(metrics.mean_squared_error(y_test, y_test_pred))\n",
    "    mlflow.log_param(\"n_neighbors\", k)\n",
    "    mlflow.log_metric(\"R2 Score\", acc)\n",
    "    mlflow.log_metric(\"RMSE\", rmse)\n",
    "    mlflow.sklearn.log_model(knn_regressor, artifact_path = \"models\")\n",
    "    mlflow.log_artifact(\"models/standard_scaler.pkl\")\n",
    "    mlflow.log_artifact(\"models/label_encoder.pkl\")"
   ]
  },
  {
   "cell_type": "markdown",
   "id": "5cc168e8",
   "metadata": {},
   "source": [
    "### Experiment-3 Decision Tree Regression"
   ]
  },
  {
   "cell_type": "code",
   "execution_count": null,
   "id": "fc89c929",
   "metadata": {},
   "outputs": [],
   "source": [
    "from sklearn.tree import DecisionTreeRegressor\n"
   ]
  },
  {
   "cell_type": "code",
   "execution_count": null,
   "id": "736db7ad",
   "metadata": {},
   "outputs": [],
   "source": [
    "with mlflow.start_run():\n",
    "    mlflow.set_tag(\"dev\", \"Abdul Azad\")\n",
    "    mlflow.set_tag(\"algo\", \"Decision Tree Regression\")\n",
    "    # log the data for each run using log_param, log_metric\n",
    "    mlflow.log_param(\"data-path\", \"diamonds.csv\")\n",
    "    d = None\n",
    "    dt_regressor = DecisionTreeRegressor(max_depth = d)\n",
    "    dt_regressor.fit(X_train_rescaled, y_train)\n",
    "    y_test_pred = dt_regressor.predict(X_test_rescaled)\n",
    "    acc = metrics.r2_score(y_test, y_test_pred)\n",
    "    rmse = np.sqrt(metrics.mean_squared_error(y_test, y_test_pred))\n",
    "    mlflow.log_param(\"max_depth\", d)\n",
    "    mlflow.log_metric(\"R2 Score\", acc)\n",
    "    mlflow.log_metric(\"RMSE\", rmse)\n",
    "    mlflow.sklearn.log_model(dt_regressor, artifact_path = \"models\")\n",
    "    mlflow.log_artifact(\"models/standard_scaler.pkl\")\n",
    "    mlflow.log_artifact(\"models/label_encoder.pkl\")"
   ]
  },
  {
   "cell_type": "markdown",
   "id": "5b3eb974",
   "metadata": {},
   "source": [
    "### Experiment-4 Random Forest"
   ]
  },
  {
   "cell_type": "code",
   "execution_count": null,
   "id": "5b4474f6",
   "metadata": {},
   "outputs": [],
   "source": [
    "from sklearn.ensemble import RandomForestRegressor"
   ]
  },
  {
   "cell_type": "code",
   "execution_count": null,
   "id": "75274f6f",
   "metadata": {},
   "outputs": [],
   "source": [
    "with mlflow.start_run():\n",
    "    mlflow.set_tag(\"dev\", \"Abdul Azad\")\n",
    "    mlflow.set_tag(\"algo\", \"Random Forest\")\n",
    "    # log the data for each run using log_param, log_metric\n",
    "    mlflow.log_param(\"data-path\", \"diamonds.csv\")\n",
    "    e = 101\n",
    "    rf_regressor = RandomForestRegressor(n_estimators = e)\n",
    "    rf_regressor.fit(X_train_rescaled, y_train)\n",
    "    y_test_pred = rf_regressor.predict(X_test_rescaled)\n",
    "    acc = metrics.r2_score(y_test, y_test_pred)\n",
    "    rmse = np.sqrt(metrics.mean_squared_error(y_test, y_test_pred))\n",
    "    mlflow.log_param(\"n_estimators\", e)\n",
    "    mlflow.log_metric(\"R2 Score\", acc)\n",
    "    mlflow.log_metric(\"RMSE\", rmse)\n",
    "    mlflow.sklearn.log_model(rf_regressor, artifact_path = \"models\")\n",
    "    mlflow.log_artifact(\"models/standard_scaler.pkl\")\n",
    "    mlflow.log_artifact(\"models/label_encoder.pkl\")"
   ]
  },
  {
   "cell_type": "markdown",
   "id": "9fdee18c",
   "metadata": {},
   "source": [
    "### Experiment-5 Naive Bayes"
   ]
  },
  {
   "cell_type": "code",
   "execution_count": null,
   "id": "e158c3f2",
   "metadata": {},
   "outputs": [],
   "source": [
    "from sklearn.naive_bayes import GaussianNB"
   ]
  },
  {
   "cell_type": "code",
   "execution_count": null,
   "id": "3466557c",
   "metadata": {},
   "outputs": [],
   "source": [
    "with mlflow.start_run():\n",
    "    mlflow.set_tag(\"dev\", \"Abdul Azad\")\n",
    "    mlflow.set_tag(\"algo\", \"GaussianNB\")\n",
    "    mlflow.log_param(\"data-path\", \"diamond.csv\")\n",
    "    nb_classifier = GaussianNB()\n",
    "    nb_classifier.fit(X_train_rescaled, y_train)\n",
    "    y_test_pred = nb_classifier.predict(X_test_rescaled)\n",
    "    acc = metrics.accuracy_score(y_test, y_test_pred)    \n",
    "    mlflow.log_metric(\"R2 Score\", acc)\n",
    "    mlflow.sklearn.log_model(nb_classifier, artifact_path=\"models\")\n",
    "    mlflow.log_artifact(\"models/standard_scaler.pkl\")\n",
    "    mlflow.log_artifact(\"models/label_encoder.pkl\")"
   ]
  },
  {
   "cell_type": "code",
   "execution_count": null,
   "id": "223a5753",
   "metadata": {},
   "outputs": [],
   "source": []
  }
 ],
 "metadata": {
  "kernelspec": {
   "display_name": "Python 3 (ipykernel)",
   "language": "python",
   "name": "python3"
  },
  "language_info": {
   "codemirror_mode": {
    "name": "ipython",
    "version": 3
   },
   "file_extension": ".py",
   "mimetype": "text/x-python",
   "name": "python",
   "nbconvert_exporter": "python",
   "pygments_lexer": "ipython3",
   "version": "3.9.7"
  }
 },
 "nbformat": 4,
 "nbformat_minor": 5
}
